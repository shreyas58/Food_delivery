{
 "cells": [
  {
   "cell_type": "markdown",
   "metadata": {},
   "source": [
    "Shreyas Vaidhyanathan\n",
    "\n",
    "\n",
    "Date: 07/10/2019\n",
    "\n",
    "Version: 1.0\n",
    "\n",
    "Environment: Python 3 and Jupyter notebook\n",
    "\n",
    "# Introduction\n",
    "    \n",
    "Three datasets containing Food Delivery data from a retaurant in Melbourne, Australia were provided. The Dirty dataset was analysed to find anomalies and corrections were made. Outliers were found and removed from the Outlier Dataset. Missing values were imputed into the missing dataset.\n",
    "    \n",
    "    "
   ]
  },
  {
   "cell_type": "markdown",
   "metadata": {},
   "source": [
    "# Importing Libraries\n",
    "\n",
    "Importing necessary libraries. Ast library was used to extract tuples of order items and their quantities. Networkx library was used to find the shortest distance between the customer and branch.Linear_model from sklearn was used to develop a model to find missing delivery fees."
   ]
  },
  {
   "cell_type": "code",
   "execution_count": null,
   "metadata": {},
   "outputs": [],
   "source": [
    "import pandas as pd\n",
    "import numpy as np\n",
    "import re\n",
    "import ast\n",
    "import networkx as nx\n",
    "from networkx.algorithms.shortest_paths.weighted import single_source_dijkstra\n",
    "from sklearn import linear_model\n",
    "from sklearn.linear_model import LinearRegression\n",
    "from datetime import datetime"
   ]
  },
  {
   "cell_type": "markdown",
   "metadata": {},
   "source": [
    "# Reading files"
   ]
  },
  {
   "cell_type": "code",
   "execution_count": null,
   "metadata": {},
   "outputs": [],
   "source": [
    "dirty = pd.read_csv('dirty_data.csv')\n",
    "miss = pd.read_csv('missing_data.csv')\n",
    "outlier = pd.read_csv('outlier_data.csv')"
   ]
  },
  {
   "cell_type": "markdown",
   "metadata": {},
   "source": [
    "# Finding menu for Breakfast, Lunch and Dinner\n",
    "\n",
    "The breakfast, menu and dinner items from the outlier dataset"
   ]
  },
  {
   "cell_type": "code",
   "execution_count": null,
   "metadata": {},
   "outputs": [],
   "source": [
    "breakfastOutlier = outlier[outlier['order_type'] == 'Breakfast']\n",
    "#filtering out rows containing orders served for breakfast \n",
    "\n",
    "breakfast = []\n",
    "for values in breakfastOutlier['order_items']:\n",
    "    val = ast.literal_eval(values)\n",
    "    for (x,y) in val:\n",
    "        breakfast.append(x)\n",
    "\n",
    "#Converting it into a set so that it has only unique values and then sorting them\n",
    "breakfast = list(set(breakfast))\n",
    "breakfast = sorted(breakfast)\n",
    "breakfast"
   ]
  },
  {
   "cell_type": "code",
   "execution_count": null,
   "metadata": {},
   "outputs": [],
   "source": [
    "lunchOutlier = outlier[outlier['order_type'] == 'Lunch']\n",
    "#filtering out rows containing orders served for lunch \n",
    "\n",
    "lunch = []\n",
    "for values in lunchOutlier['order_items']:\n",
    "    val = ast.literal_eval(values)\n",
    "    for (x,y) in val:\n",
    "        lunch.append(x)\n",
    "        \n",
    "#Converting it into a set so that it has only unique values and then sorting them        \n",
    "lunch = list(set(lunch))\n",
    "lunch = sorted(lunch)\n",
    "lunch"
   ]
  },
  {
   "cell_type": "code",
   "execution_count": null,
   "metadata": {},
   "outputs": [],
   "source": [
    "dinnerOutlier = outlier[outlier['order_type'] == 'Dinner']\n",
    "dinner = []\n",
    "#filtering out rows containing orders served for Dinner \n",
    "\n",
    "for values in dinnerOutlier['order_items']:\n",
    "    val = ast.literal_eval(values)\n",
    "    for (x,y) in val:\n",
    "        dinner.append(x)\n",
    "\n",
    "#Converting it into a set so that it has only unique values and then sorting them\n",
    "dinner = list(set(dinner))\n",
    "dinner = sorted(dinner)\n",
    "dinner"
   ]
  },
  {
   "cell_type": "markdown",
   "metadata": {},
   "source": [
    "# Pricing\n",
    "\n",
    "finding the price of each item in the menu using order_items and price as input to a linalg function"
   ]
  },
  {
   "cell_type": "code",
   "execution_count": null,
   "metadata": {},
   "outputs": [],
   "source": [
    "'''\n",
    "Converting the string into lists\n",
    "'''\n",
    "itemsVector = []\n",
    "for items in outlier['order_items']:\n",
    "    items = ast.literal_eval(items)\n",
    "    itemsVector.append(items)"
   ]
  },
  {
   "cell_type": "code",
   "execution_count": null,
   "metadata": {},
   "outputs": [],
   "source": [
    "'''\n",
    "Creating a vector of all prices\n",
    "'''\n",
    "priceVec = []\n",
    "for price in outlier['order_price']:\n",
    "    priceVec.append(price)"
   ]
  },
  {
   "cell_type": "markdown",
   "metadata": {},
   "source": [
    "#### Breakfast \n",
    "\n",
    "Finding the price of each item in the breakfast menu"
   ]
  },
  {
   "cell_type": "code",
   "execution_count": null,
   "metadata": {},
   "outputs": [],
   "source": [
    "'''\n",
    "Creating a list of all order items\n",
    "'''\n",
    "itemVec_BK = []\n",
    "for items in breakfastOutlier['order_items']:\n",
    "    items = ast.literal_eval(items)\n",
    "    itemVec_BK.append(items)\n",
    "\n",
    "'''\n",
    "Creating a list of the prices\n",
    "'''\n",
    "priceVec_BK = []\n",
    "for price in breakfastOutlier['order_price']:\n",
    "    priceVec_BK.append(price) \n",
    "\n",
    "'''\n",
    "Taking values with no zeroes for solving them using linear algebra\n",
    "Also recording indexes to get the appropriate prices\n",
    "'''\n",
    "temp = itemVec_BK\n",
    "itemVec_BK = []\n",
    "reqIndex = []\n",
    "for values in temp:\n",
    "    index = temp.index(values)\n",
    "    if len(values) == len(breakfast):\n",
    "        index = temp.index(values)\n",
    "        reqIndex.append(index)\n",
    "        itemVec_BK.append(values)\n",
    "'''\n",
    "Taking as much equations as required\n",
    "'''        \n",
    "itemVec_BK = itemVec_BK[:len(breakfast)]\n",
    "reqIndex = reqIndex[:len(breakfast)]\n",
    "reqIndex\n",
    "\n",
    "'''\n",
    "Taking required prices based on the required index\n",
    "'''\n",
    "temp = priceVec_BK\n",
    "priceVec_BK = []\n",
    "count = 0\n",
    "for indexes in reqIndex:\n",
    "    priceVec_BK.append(temp[indexes])\n",
    "\n",
    "'''\n",
    "Sorting them\n",
    "'''\n",
    "sortedVec_BK = []\n",
    "for items in itemVec_BK:\n",
    "    items.sort(key=lambda tup: tup[0])\n",
    "    sortedVec_BK.append(items)\n",
    " \n",
    "'''\n",
    "Creating matrix to solve the linear equation\n",
    "'''\n",
    "Mat = [[] for i in range(len(breakfast))]\n",
    "for lists in sortedVec_BK:\n",
    "    index = sortedVec_BK.index(lists)\n",
    "    for (x,y) in lists:\n",
    "        Mat[index].append(y)\n",
    "\n",
    "'''\n",
    "Solving them using linalg.solve\n",
    "'''\n",
    "Mat = np.array(Mat)\n",
    "priceVec_BK = np.array(priceVec_BK)\n",
    "breakfastPrice = np.linalg.solve(Mat,priceVec_BK)\n",
    "breakfastPrice\n",
    "\n",
    "'''\n",
    "Creating a dictionary for breakfast\n",
    "'''\n",
    "bPrice = {}\n",
    "for items in breakfast:\n",
    "    index = breakfast.index(items)\n",
    "    bPrice[breakfast[index]] = round(breakfastPrice[index],2)\n",
    "    \n",
    "bPrice"
   ]
  },
  {
   "cell_type": "markdown",
   "metadata": {},
   "source": [
    "#### Lunch \n",
    "\n",
    "Finding the price of each item in the lunch menu"
   ]
  },
  {
   "cell_type": "code",
   "execution_count": null,
   "metadata": {},
   "outputs": [],
   "source": [
    "'''\n",
    "Creating a list of all order items\n",
    "'''\n",
    "itemVec_LU = []\n",
    "for items in lunchOutlier['order_items']:\n",
    "    items = ast.literal_eval(items)\n",
    "    itemVec_LU.append(items)\n",
    "\n",
    "'''\n",
    "Creating a list of the prices\n",
    "'''\n",
    "priceVec_LU = []\n",
    "for price in lunchOutlier['order_price']:\n",
    "    priceVec_LU.append(price) \n",
    "\n",
    "'''\n",
    "Taking values with no zeroes for solving them using linear algebra\n",
    "Also recording indexes to get the appropriate prices\n",
    "'''\n",
    "temp = itemVec_LU\n",
    "itemVec_LU = []\n",
    "reqIndex = []\n",
    "for values in temp:\n",
    "    index = temp.index(values)\n",
    "    if len(values) == len(lunch):\n",
    "        index = temp.index(values)\n",
    "        reqIndex.append(index)\n",
    "        itemVec_LU.append(values)\n",
    "'''\n",
    "Taking as much equations as required\n",
    "'''        \n",
    "itemVec_LU = itemVec_LU[:len(lunch)]\n",
    "reqIndex = reqIndex[:len(lunch)]\n",
    "reqIndex\n",
    "\n",
    "'''\n",
    "Taking required prices based on the required index\n",
    "'''\n",
    "temp = priceVec_LU\n",
    "priceVec_LU = []\n",
    "count = 0\n",
    "for indexes in reqIndex:\n",
    "    priceVec_LU.append(temp[indexes])\n",
    "\n",
    "'''\n",
    "Sorting them\n",
    "'''\n",
    "sortedVec_LU = []\n",
    "for items in itemVec_LU:\n",
    "    items.sort(key=lambda tup: tup[0])\n",
    "    sortedVec_LU.append(items)\n",
    " \n",
    "'''\n",
    "Creating matrix to solve the linear equation\n",
    "'''\n",
    "Mat = [[] for i in range(len(lunch))]\n",
    "for lists in sortedVec_LU:\n",
    "    index = sortedVec_LU.index(lists)\n",
    "    for (x,y) in lists:\n",
    "        Mat[index].append(y)\n",
    "\n",
    "'''\n",
    "Solving them using linalg.solve\n",
    "'''\n",
    "Mat = np.array(Mat)\n",
    "priceVec_LU = np.array(priceVec_LU)\n",
    "lunchPrice = np.linalg.solve(Mat,priceVec_LU)\n",
    "lunchPrice\n",
    "\n",
    "'''\n",
    "Creating a dictionary for lunch\n",
    "'''\n",
    "lPrice = {}\n",
    "for items in lunch:\n",
    "    index = lunch.index(items)\n",
    "    lPrice[lunch[index]] = round(lunchPrice[index],2)\n",
    "    \n",
    "lPrice"
   ]
  },
  {
   "cell_type": "markdown",
   "metadata": {},
   "source": [
    "#### Dinner\n",
    "\n",
    "Finding the price of each item in the dinner menu"
   ]
  },
  {
   "cell_type": "code",
   "execution_count": null,
   "metadata": {},
   "outputs": [],
   "source": [
    "'''\n",
    "Creating a list of all order items\n",
    "'''\n",
    "itemVec_DI = []\n",
    "for items in dinnerOutlier['order_items']:\n",
    "    items = ast.literal_eval(items)\n",
    "    itemVec_DI.append(items)\n",
    "\n",
    "'''\n",
    "Creating a list of the prices\n",
    "'''\n",
    "priceVec_DI = []\n",
    "for price in dinnerOutlier['order_price']:\n",
    "    priceVec_DI.append(price) \n",
    "\n",
    "'''\n",
    "Taking values with no zeroes for solving them using linear algebra\n",
    "Also recording indexes to get the appropriate prices\n",
    "'''\n",
    "temp = itemVec_DI\n",
    "itemVec_DI = []\n",
    "reqIndex = []\n",
    "for values in temp:\n",
    "    index = temp.index(values)\n",
    "    if len(values) == len(dinner):\n",
    "        index = temp.index(values)\n",
    "        reqIndex.append(index)\n",
    "        itemVec_DI.append(values)\n",
    "'''\n",
    "Taking as much equations as required\n",
    "'''        \n",
    "itemVec_DI = itemVec_DI[:len(dinner)]\n",
    "reqIndex = reqIndex[:len(dinner)]\n",
    "reqIndex\n",
    "\n",
    "'''\n",
    "Taking required prices based on the required index\n",
    "'''\n",
    "temp = priceVec_DI\n",
    "priceVec_DI = []\n",
    "count = 0\n",
    "for indexes in reqIndex:\n",
    "    priceVec_DI.append(temp[indexes])\n",
    "\n",
    "'''\n",
    "Sorting them\n",
    "'''\n",
    "sortedVec_DI = []\n",
    "for items in itemVec_DI:\n",
    "    items.sort(key=lambda tup: tup[0])\n",
    "    sortedVec_DI.append(items)\n",
    " \n",
    "'''\n",
    "Creating matrix to solve the linear equation\n",
    "'''\n",
    "Mat = [[] for i in range(len(dinner))]\n",
    "for lists in sortedVec_DI:\n",
    "    index = sortedVec_DI.index(lists)\n",
    "    for (x,y) in lists:\n",
    "        Mat[index].append(y)\n",
    "\n",
    "'''\n",
    "Solving them using linalg.solve\n",
    "'''\n",
    "Mat = np.array(Mat)\n",
    "priceVec_DI = np.array(priceVec_DI)\n",
    "dinnerPrice = np.linalg.solve(Mat,priceVec_DI)\n",
    "dinnerPrice\n",
    "\n",
    "'''\n",
    "Creating a dictionary for dinner\n",
    "'''\n",
    "dPrice = {}\n",
    "for items in dinner:\n",
    "    index = dinner.index(items)\n",
    "    dPrice[dinner[index]] = round(dinnerPrice[index],1)\n",
    "    \n",
    "dPrice"
   ]
  },
  {
   "cell_type": "markdown",
   "metadata": {},
   "source": [
    "Creating menu that contains all items including rates"
   ]
  },
  {
   "cell_type": "code",
   "execution_count": null,
   "metadata": {},
   "outputs": [],
   "source": [
    "menu = {}\n",
    "menu.update(bPrice)\n",
    "menu.update(lPrice)\n",
    "menu.update(dPrice)"
   ]
  },
  {
   "cell_type": "markdown",
   "metadata": {},
   "source": [
    "# Cleaning Dates"
   ]
  },
  {
   "cell_type": "code",
   "execution_count": null,
   "metadata": {},
   "outputs": [],
   "source": [
    "dirty['date'].head(10)"
   ]
  },
  {
   "cell_type": "markdown",
   "metadata": {},
   "source": [
    "##### We can see some rows having a different date format compared to the rest"
   ]
  },
  {
   "cell_type": "code",
   "execution_count": null,
   "metadata": {},
   "outputs": [],
   "source": [
    "'''\n",
    "Making CleanDate list\n",
    "'''\n",
    "cleanDate = []\n",
    "\n",
    "'''\n",
    "Try to convert given date string to date format and append to claenDate list.\n",
    "If not possible, interchange date and month and try again.\n",
    "'''\n",
    "for items in dirty['date']:\n",
    "    try:\n",
    "        items = pd.to_datetime(items)\n",
    "        cleanDate.append(items)\n",
    "    except ValueError:\n",
    "        falseDate = items\n",
    "        items = falseDate[0:4] + \"-\" + falseDate[8:10] + \"-\" + falseDate[5:7]\n",
    "        items = pd.to_datetime(items)\n",
    "        cleanDate.append(items)\n",
    " \n",
    "'''\n",
    "Re-initialize date column to clean dates\n",
    "'''\n",
    "dirty['date'] = cleanDate"
   ]
  },
  {
   "cell_type": "markdown",
   "metadata": {},
   "source": [
    "# Weekend or not"
   ]
  },
  {
   "cell_type": "code",
   "execution_count": null,
   "metadata": {},
   "outputs": [],
   "source": [
    "'''\n",
    "Initially setting them to 0 meaning not a weekend.\n",
    "Then changing the specific rows to 1 whose day of week is either 5 or 6.\n",
    "'''\n",
    "dirty['weekend_index'] = 0\n",
    "dirty.loc[pd.to_datetime(dirty['date']).dt.dayofweek.isin([5,6]), 'weekend_index'] = 1"
   ]
  },
  {
   "cell_type": "markdown",
   "metadata": {},
   "source": [
    "# Rectifying Order Type errors\n",
    "\n",
    "On analalysing the data set we can find anomalies in the order_type for certain orders which does not correlate with the time of order"
   ]
  },
  {
   "cell_type": "code",
   "execution_count": null,
   "metadata": {},
   "outputs": [],
   "source": [
    "dirty[['time','order_type']].head(20)"
   ]
  },
  {
   "cell_type": "markdown",
   "metadata": {},
   "source": [
    " We can find an order for breakfast served at 14:45:38 and 13:04:13 which cant be true."
   ]
  },
  {
   "cell_type": "code",
   "execution_count": null,
   "metadata": {},
   "outputs": [],
   "source": [
    "'''\n",
    "Converting to datetime format\n",
    "'''\n",
    "dirty['time'] = pd.to_datetime(dirty['time'])"
   ]
  },
  {
   "cell_type": "code",
   "execution_count": null,
   "metadata": {},
   "outputs": [],
   "source": [
    "'''\n",
    "Changing order type errors based on the time\n",
    "'''\n",
    "# eight = '08:00:00'\n",
    "# eight = pd.to_datetime(eight)\n",
    "twelve = '12:00:00'\n",
    "twelve = pd.to_datetime(twelve)\n",
    "sixteen = '16:00:00'\n",
    "sixteen = pd.to_datetime(sixteen)\n",
    "twenty = '20:00:00'\n",
    "twenty = pd.to_datetime(twenty)\n",
    "\n",
    "dirty.loc[dirty.time<=twenty, \"order_type\"] = \"Dinner\"\n",
    "dirty.loc[dirty.time<=sixteen, \"order_type\"] = \"Lunch\"\n",
    "dirty.loc[dirty.time<=twelve, \"order_type\"] = \"Breakfast\""
   ]
  },
  {
   "cell_type": "code",
   "execution_count": null,
   "metadata": {},
   "outputs": [],
   "source": [
    "dirty['time'] = [time.time() for time in dirty['time']]\n",
    "#updating the time column in the dataset"
   ]
  },
  {
   "cell_type": "code",
   "execution_count": null,
   "metadata": {},
   "outputs": [],
   "source": [
    "dirty.head()"
   ]
  },
  {
   "cell_type": "markdown",
   "metadata": {},
   "source": [
    "# Rectifying Branch errors\n",
    "\n",
    "On analysing the data set, we can find there are certain errors in the entries for branch codes. For example branch codes are stored in lower and upper case."
   ]
  },
  {
   "cell_type": "code",
   "execution_count": null,
   "metadata": {},
   "outputs": [],
   "source": [
    "dirty['branch_code'].unique()"
   ]
  },
  {
   "cell_type": "code",
   "execution_count": null,
   "metadata": {},
   "outputs": [],
   "source": [
    "BranchCodes = list(dirty['branch_code'].unique())\n",
    "BranchCodes = list(set(item.upper() for item in BranchCodes))\n",
    "BranchCodes"
   ]
  },
  {
   "cell_type": "code",
   "execution_count": null,
   "metadata": {},
   "outputs": [],
   "source": [
    "for i in range(len(dirty)):\n",
    "    item = str(dirty['branch_code'][i])\n",
    "    \n",
    "    if item not in BranchCodes:\n",
    "        dirty['branch_code'][i] = item.upper()\n",
    "#reseting values to upper case if it is lower case\n",
    "        \n",
    "dirty['branch_code'].unique()\n",
    "#checking if branch codes are"
   ]
  },
  {
   "cell_type": "code",
   "execution_count": null,
   "metadata": {},
   "outputs": [],
   "source": [
    "tp = []\n",
    "bk = []\n",
    "ns = []\n",
    "\n",
    "for i in range(len(outlier)):\n",
    "    id1 = list(outlier['order_id'][i])[3]\n",
    "    \n",
    "    branch = outlier['branch_code'][i]\n",
    "    \n",
    "    if branch == 'TP':\n",
    "        tp.append(id1)\n",
    "    if branch == 'BK':\n",
    "        bk.append(id1)\n",
    "    if branch == 'NS':\n",
    "        ns.append(id1)\n",
    "    \n",
    "tp = list(set(tp))\n",
    "bk = list(set(bk))\n",
    "ns = list(set(ns))\n",
    "\n",
    "print('tp',tp)\n",
    "print('bk',bk)\n",
    "print('ns',ns)"
   ]
  },
  {
   "cell_type": "code",
   "execution_count": null,
   "metadata": {},
   "outputs": [],
   "source": [
    "for i in range(len(miss)):\n",
    "    id2 = dirty['order_id'][i][3]\n",
    "    if id2 in tp and dirty['branch_code'][i] != 'TP':\n",
    "        dirty['branch_code'][i] = 'TP'\n",
    "    elif id2 in bk and dirty['branch_code'][i] != 'BK':\n",
    "        dirty['branch_code'][i] = 'BK'\n",
    "    elif id2 in ns and dirty['branch_code'][i] != 'NS':\n",
    "        dirty['branch_code'][i] = 'NS'  "
   ]
  },
  {
   "cell_type": "markdown",
   "metadata": {},
   "source": [
    "# Rectifying Order Items errors"
   ]
  },
  {
   "cell_type": "markdown",
   "metadata": {},
   "source": [
    "### Checking for anomalies in Order Items"
   ]
  },
  {
   "cell_type": "code",
   "execution_count": null,
   "metadata": {},
   "outputs": [],
   "source": [
    "for i in range(500):\n",
    "    if dirty['order_type'][i] == 'Breakfast':\n",
    "        x = dirty['order_items'][i].split(',')\n",
    "        for item in x:\n",
    "            food = re.search('\\w+', item).group()\n",
    "            \n",
    "            if food not in breakfast and food.isdigit() == False:\n",
    "                print(dirty['order_type'][i], dirty['order_items'][i],i)\n",
    "                break\n",
    "    \n",
    "    elif dirty['order_type'][i] == 'Lunch':\n",
    "        x = dirty['order_items'][i].split(',')\n",
    "        for item in x:\n",
    "            food = re.search('\\w+', item).group()\n",
    "            \n",
    "            if food not in lunch and food.isdigit() == False:\n",
    "                print(dirty['order_type'][i], dirty['order_items'][i],i)\n",
    "                break\n",
    "    \n",
    "    elif dirty['order_type'][i] == 'Dinner':\n",
    "        x = dirty['order_items'][i].split(',')\n",
    "        for item in x:\n",
    "            food = re.search('(\\w+&\\w+)|(\\w+)', item).group()\n",
    "            \n",
    "            if food not in dinner and food.isdigit() == False:\n",
    "                print(dirty['order_type'][i], dirty['order_items'][i],'\\n',i)\n",
    "                break"
   ]
  },
  {
   "cell_type": "markdown",
   "metadata": {},
   "source": [
    "##### From the ouput the displayed above we can see errors in order items served for breakfast, lunch and dinner. For example, steak and shrimps cant have been served for breakfast."
   ]
  },
  {
   "cell_type": "code",
   "execution_count": null,
   "metadata": {},
   "outputs": [],
   "source": [
    "'''\n",
    "Appending order item details to a list\n",
    "'''\n",
    "itemsVector = []\n",
    "for items in dirty['order_items']:\n",
    "    items = ast.literal_eval(items)\n",
    "    itemsVector.append(items)"
   ]
  },
  {
   "cell_type": "code",
   "execution_count": null,
   "metadata": {},
   "outputs": [],
   "source": [
    "# i = -1\n",
    "# count = 0\n",
    "'''\n",
    "Iterating through the items vector\n",
    "'''\n",
    "for lists in itemsVector:\n",
    "#     i += 1\n",
    "#Finding the index \n",
    "    index = itemsVector.index(lists)\n",
    "    '''\n",
    "    Deciding on the check list depending on the order type\n",
    "    '''\n",
    "    if dirty['order_type'][index] == 'Dinner':\n",
    "        checkList = dPrice\n",
    "    elif dirty['order_type'][index] == 'Lunch':\n",
    "        checkList = lPrice\n",
    "    else:\n",
    "        checkList = bPrice\n",
    "    '''\n",
    "    If item not in list\n",
    "    Calculating currentPrice - The price of Correct item prices\n",
    "    Calculating Price of Dish using the amount paid and the currentPrice and quantity using a formula\n",
    "    Replacing the wrong dish with the right dish\n",
    "    '''\n",
    "    for (x,y) in lists:\n",
    "        if x not in checkList:\n",
    "            currentPrice = 0\n",
    "            for (dish, quantity) in lists:\n",
    "                if dish not in checkList:\n",
    "                    quan = quantity\n",
    "                    theFakeDish = dish\n",
    "                else:\n",
    "                    currentPrice = currentPrice + (menu[dish] * quantity)\n",
    "            priceOfDish = round((dirty['order_price'][index] - currentPrice) / quan,1)\n",
    "            for (dishes, prices) in checkList.items():\n",
    "                if priceOfDish <= prices + 0.4 and priceOfDish >= prices - 0.4:\n",
    "                    theRealDish = dishes\n",
    "            theNewList = str(lists)\n",
    "            theNewList = re.sub(theFakeDish, theRealDish, theNewList)\n",
    "            dirty['order_items'][index] = theNewList"
   ]
  },
  {
   "cell_type": "markdown",
   "metadata": {},
   "source": [
    "# --Checking--"
   ]
  },
  {
   "cell_type": "code",
   "execution_count": null,
   "metadata": {},
   "outputs": [],
   "source": [
    "itemsVector = []\n",
    "for items in dirty['order_items']:\n",
    "    items = ast.literal_eval(items)\n",
    "    itemsVector.append(items)\n",
    "    \n",
    "index = -1\n",
    "count = 0\n",
    "\n",
    "for lists in itemsVector:\n",
    "    index = index + 1\n",
    "#     print(index)\n",
    "    if dirty['order_type'][index] == 'Dinner':\n",
    "        checkList = dPrice\n",
    "    elif dirty['order_type'][index] == 'Breakfast':\n",
    "        checkList = bPrice\n",
    "    else:\n",
    "        checkList = lPrice\n",
    "    for (x,y) in lists:\n",
    "        if x not in checkList:\n",
    "            print(lists)\n",
    "            print(checkList)\n",
    "            print(index)"
   ]
  },
  {
   "cell_type": "markdown",
   "metadata": {},
   "source": [
    "# Rectifying Price errors"
   ]
  },
  {
   "cell_type": "code",
   "execution_count": null,
   "metadata": {},
   "outputs": [],
   "source": [
    "'''\n",
    "After fixing the items vector, We calculate the prices using the menu\n",
    "'''\n",
    "index = -1\n",
    "for lists in itemsVector:\n",
    "    index += 1\n",
    "    price = 0\n",
    "    for (x,y) in lists:\n",
    "        price = price + (menu[x] * y)\n",
    "        dirty['order_price'][index] = price\n",
    "        "
   ]
  },
  {
   "cell_type": "markdown",
   "metadata": {},
   "source": [
    "# Rectifying Latitude and Longitude errors"
   ]
  },
  {
   "cell_type": "code",
   "execution_count": null,
   "metadata": {},
   "outputs": [],
   "source": [
    "dirty.head()"
   ]
  },
  {
   "cell_type": "code",
   "execution_count": null,
   "metadata": {},
   "outputs": [],
   "source": [
    "'''\n",
    "Latitude is always lesser than -30  and Longitude is always greater than 140\n",
    "'''\n",
    "index = -1\n",
    "for lat in dirty['customer_lat']:\n",
    "    index += 1\n",
    "    '''\n",
    "    Swapping latitudes and longitudes\n",
    "    Since latitude is positive, Changing the sign\n",
    "    '''\n",
    "    if lat > -30:\n",
    "        if lat > 140:\n",
    "            temp = dirty['customer_lat'][index]\n",
    "            dirty['customer_lat'][index] = dirty['customer_lon'][index]\n",
    "            dirty['customer_lon'][index] = temp\n",
    "        else:\n",
    "            dirty['customer_lat'][index] = -dirty['customer_lat'][index]"
   ]
  },
  {
   "cell_type": "code",
   "execution_count": null,
   "metadata": {},
   "outputs": [],
   "source": [
    "dirty.head()"
   ]
  },
  {
   "cell_type": "markdown",
   "metadata": {},
   "source": [
    "# Graphing"
   ]
  },
  {
   "cell_type": "code",
   "execution_count": null,
   "metadata": {},
   "outputs": [],
   "source": [
    "'''\n",
    "Importing necessary files for graphs\n",
    "'''\n",
    "nodes = pd.read_csv('nodes.csv')\n",
    "edges = pd.read_csv('edges.csv')\n",
    "branches = pd.read_csv('branches.csv')"
   ]
  },
  {
   "cell_type": "code",
   "execution_count": null,
   "metadata": {},
   "outputs": [],
   "source": [
    "'''\n",
    "Adding nodes and the distance between them\n",
    "'''\n",
    "theRoute = nx.Graph()\n",
    "for i in range(len(edges['u'])):\n",
    "    theRoute.add_edge(int(edges['u'][i]), int(edges['v'][i]), weight = int(edges['distance(m)'][i]))"
   ]
  },
  {
   "cell_type": "markdown",
   "metadata": {},
   "source": [
    "#### Rectifying distance_to_customer errors"
   ]
  },
  {
   "cell_type": "code",
   "execution_count": null,
   "metadata": {},
   "outputs": [],
   "source": [
    "bcode=[]\n",
    "bnode=[]\n",
    "\n",
    "for i in range(3):\n",
    "    blat = branches['branch_lat'][i]\n",
    "    blon = branches['branch_lon'][i]\n",
    "    branchCode = branches['branch_code'][i]\n",
    "    row_index = (nodes[(nodes['lat'] == blat) & (nodes['lon']==blon)].index.tolist()[0])\n",
    "    n1 = nodes['node'].iloc[row_index]\n",
    "    bcode.append(branchCode)\n",
    "    bnode.append(n1)\n",
    "branch_nodes = list(zip(bcode,bnode))\n",
    "branch_nodes"
   ]
  },
  {
   "cell_type": "code",
   "execution_count": null,
   "metadata": {},
   "outputs": [],
   "source": [
    "'''\n",
    "Calculating node of branch using the latitude and logitude of branch\n",
    "Calculating node of customer using latitude and logitude of customer\n",
    "Finding the shortest distance between the nodes using Dijstras algorithm\n",
    "'''\n",
    "for i in range(len(dirty['order_id'])):\n",
    "    for code,node in branch_nodes:\n",
    "        if dirty['branch_code'][i] == code:\n",
    "            nodeOfBranch = node\n",
    "    \n",
    "    crLat = dirty['customer_lat'][i]\n",
    "    crLon = dirty['customer_lon'][i]\n",
    "    nodeOfCustomer = nodes[(nodes['lat'] == crLat) & (nodes['lon'] == crLon)]['node']\n",
    "    nodeOfBranch = int(nodeOfBranch)\n",
    "    nodeOfCustomer = int(nodeOfCustomer)\n",
    "    distance = single_source_dijkstra(theRoute, nodeOfBranch, nodeOfCustomer)[0]\n",
    "    dirty['distance_to_customer_KM'][i]  = round((single_source_dijkstra(theRoute, nodeOfBranch, nodeOfCustomer)[0]/1000),4)"
   ]
  },
  {
   "cell_type": "markdown",
   "metadata": {},
   "source": [
    "# Model based on missing data\n",
    "\n",
    "Creeating a model to determine delivery fee to check the entries of customer loyalty."
   ]
  },
  {
   "cell_type": "code",
   "execution_count": null,
   "metadata": {},
   "outputs": [],
   "source": [
    "'''\n",
    "Adding weekend or not column to missing data\n",
    "'''\n",
    "miss['weekend_index'] = 0\n",
    "miss.loc[pd.to_datetime(miss['date']).dt.dayofweek.isin([5,6]), 'weekend_index'] = 1"
   ]
  },
  {
   "cell_type": "code",
   "execution_count": null,
   "metadata": {},
   "outputs": [],
   "source": [
    "'''\n",
    "Adding type code to missing data\n",
    "'''\n",
    "index = -1\n",
    "miss['typeCode'] = 0\n",
    "\n",
    "for value in miss['order_type']:\n",
    "    index += 1\n",
    "    if value == 'Lunch':\n",
    "        miss['typeCode'][index] = 1\n",
    "    elif value == 'Dinner':\n",
    "        miss['typeCode'][index] = 2      "
   ]
  },
  {
   "cell_type": "code",
   "execution_count": null,
   "metadata": {},
   "outputs": [],
   "source": [
    "'''\n",
    "Considering rows that do not have customer loyalty\n",
    "'''\n",
    "req1 = miss[miss['customerHasloyalty?'] == 0]\n",
    "req1 = req1[['weekend_index', 'typeCode', 'distance_to_customer_KM', 'delivery_fee', 'branch_code']]"
   ]
  },
  {
   "cell_type": "code",
   "execution_count": null,
   "metadata": {},
   "outputs": [],
   "source": [
    "'''\n",
    "Consider rows that have customer loyalty\n",
    "'''\n",
    "req2 = miss[miss['customerHasloyalty?'] == 1]\n",
    "req2 = req2[['weekend_index', 'typeCode', 'distance_to_customer_KM', 'delivery_fee', 'branch_code']]"
   ]
  },
  {
   "cell_type": "code",
   "execution_count": null,
   "metadata": {},
   "outputs": [],
   "source": [
    "'''\n",
    "Dropping null values\n",
    "'''\n",
    "req1 = req1.dropna(how = 'any')\n",
    "req2 = req2.dropna(how = 'any')"
   ]
  },
  {
   "cell_type": "code",
   "execution_count": null,
   "metadata": {},
   "outputs": [],
   "source": [
    "'''\n",
    "Multiplying delivery fee by 2 since those are customers with loyalty\n",
    "'''\n",
    "newFee = []\n",
    "for values in req2['delivery_fee']:   \n",
    "    newFee.append(values * 2)\n",
    "\n",
    "req2['delivery_fee'] = newFee"
   ]
  },
  {
   "cell_type": "code",
   "execution_count": null,
   "metadata": {},
   "outputs": [],
   "source": [
    "'''\n",
    "Concatenating the 2 data frames for modelling purposes\n",
    "'''\n",
    "req = pd.concat([req1, req2])"
   ]
  },
  {
   "cell_type": "code",
   "execution_count": null,
   "metadata": {},
   "outputs": [],
   "source": [
    "'''\n",
    "Creating unique dataframes and models for each branch\n",
    "'''\n",
    "reqTP = req[req['branch_code'] == 'TP']\n",
    "reqBK = req[req['branch_code'] == 'BK']\n",
    "reqNS = req[req['branch_code'] == 'NS']\n",
    "reqTP = reqTP.dropna(how = 'any')\n",
    "reqBK = reqTP.dropna(how = 'any')\n",
    "reqNS = reqTP.dropna(how = 'any')"
   ]
  },
  {
   "cell_type": "code",
   "execution_count": null,
   "metadata": {},
   "outputs": [],
   "source": [
    "regTP = linear_model.LinearRegression()\n",
    "regTP.fit(reqTP[['weekend_index', 'typeCode', 'distance_to_customer_KM']], reqTP['delivery_fee'])\n",
    "regBK = linear_model.LinearRegression()\n",
    "regBK.fit(reqBK[['weekend_index', 'typeCode', 'distance_to_customer_KM']], reqBK['delivery_fee'])\n",
    "regNS = linear_model.LinearRegression()\n",
    "regNS.fit(reqNS[['weekend_index', 'typeCode', 'distance_to_customer_KM']], reqNS['delivery_fee'])"
   ]
  },
  {
   "cell_type": "markdown",
   "metadata": {},
   "source": [
    "# Rectifying Customer Loyalty errors\n",
    "\n",
    "Checking if the customer Loyalty was entered correctly in the dataset."
   ]
  },
  {
   "cell_type": "code",
   "execution_count": null,
   "metadata": {},
   "outputs": [],
   "source": [
    "'''\n",
    "Creating a new column with name Predicted fee with the help of models built above\n",
    "'''\n",
    "index = -1\n",
    "dirty['predictedFee'] = float(0)\n",
    "for i in range(len(dirty)):\n",
    "    index += 1\n",
    "    if dirty['order_type'][index] == 'Breakfast':\n",
    "        value = 0\n",
    "    elif dirty['order_type'][index] == 'Lunch':\n",
    "        value = 1\n",
    "    else:\n",
    "        value = 2\n",
    "    if dirty['branch_code'][index] == 'TP':\n",
    "        dirty['predictedFee'][index] = regTP.predict([[dirty['weekend_index'][index], value, dirty['distance_to_customer_KM'][index]]])\n",
    "    elif dirty['branch_code'][index] == 'BK':\n",
    "        dirty['predictedFee'][index] = regBK.predict([[dirty['weekend_index'][index], value, dirty['distance_to_customer_KM'][index]]])\n",
    "    else:\n",
    "        dirty['predictedFee'][index] = regNS.predict([[dirty['weekend_index'][index], value, dirty['distance_to_customer_KM'][index]]])"
   ]
  },
  {
   "cell_type": "code",
   "execution_count": null,
   "metadata": {},
   "outputs": [],
   "source": [
    "'''\n",
    "Checking if the delivery_fee is closer to half of predicted value or predicted value\n",
    "'''\n",
    "for i in range(len(dirty)):\n",
    "    predFeeByTwo = dirty['predictedFee'][i] / 2\n",
    "    predFee = dirty['predictedFee'][i]\n",
    "    actualFee = dirty['delivery_fee'][i]\n",
    "    byTwoDiff = abs(actualFee - predFeeByTwo)\n",
    "    diff = abs(actualFee - predFee)\n",
    "    if diff < byTwoDiff:\n",
    "        dirty['customerHasloyalty?'][i] = 0\n",
    "    else:\n",
    "        dirty['customerHasloyalty?'][i] = 1"
   ]
  },
  {
   "cell_type": "code",
   "execution_count": null,
   "metadata": {},
   "outputs": [],
   "source": [
    "'''\n",
    "Dropping unwanted columns\n",
    "'''\n",
    "dirty.drop(columns=['weekend_index', 'predictedFee'], inplace=True)\n",
    "\n",
    "dirty['customer_lat'] = round(dirty['customer_lat'], 7)\n",
    "dirty['customer_lon'] = round(dirty['customer_lon'], 7)\n",
    "\n",
    "dirty['delivery_fee'] = round(dirty['delivery_fee'], 7)\n",
    "dirty['order_price'] = round(dirty['order_price'], 1)\n"
   ]
  },
  {
   "cell_type": "code",
   "execution_count": null,
   "metadata": {},
   "outputs": [],
   "source": [
    "'''\n",
    "Cleaned dirty data\n",
    "'''\n",
    "dirty"
   ]
  },
  {
   "cell_type": "code",
   "execution_count": null,
   "metadata": {},
   "outputs": [],
   "source": [
    "dirty.to_csv('./dirty_data_solution.csv', index=False)"
   ]
  },
  {
   "cell_type": "markdown",
   "metadata": {},
   "source": [
    "# OUTLIER DATA SET"
   ]
  },
  {
   "cell_type": "markdown",
   "metadata": {},
   "source": [
    "# Adding weekend column"
   ]
  },
  {
   "cell_type": "code",
   "execution_count": null,
   "metadata": {},
   "outputs": [],
   "source": [
    "'''\n",
    "Adding weekend column to the outlier dataframe\n",
    "'''\n",
    "outlier['weekend_index'] = 0\n",
    "outlier.loc[pd.to_datetime(outlier['date']).dt.dayofweek.isin([5,6]), 'weekend_index'] = 1"
   ]
  },
  {
   "cell_type": "markdown",
   "metadata": {},
   "source": [
    "# Adding Type Code Column"
   ]
  },
  {
   "cell_type": "code",
   "execution_count": null,
   "metadata": {},
   "outputs": [],
   "source": [
    "'''\n",
    "Adding TypeCode Column to outlier\n",
    "'''\n",
    "index = -1\n",
    "outlier['typeCode'] = 0\n",
    "\n",
    "for value in outlier['order_type']:\n",
    "    index += 1\n",
    "    if value == 'Lunch':\n",
    "        outlier['typeCode'][index] = 1\n",
    "    elif value == 'Dinner':\n",
    "        outlier['typeCode'][index] = 2      "
   ]
  },
  {
   "cell_type": "code",
   "execution_count": null,
   "metadata": {},
   "outputs": [],
   "source": [
    "'''\n",
    "Adding a column that contains predicted fee using the model created using missing data\n",
    "'''\n",
    "index = -1\n",
    "outlier['predictedFee'] = float(0)\n",
    "\n",
    "for value in outlier['predictedFee']:\n",
    "    index += 1\n",
    "    if outlier['branch_code'][index] == 'TP':\n",
    "        outlier['predictedFee'][index] = regTP.predict([[outlier['weekend_index'][index], outlier['typeCode'][index], outlier['distance_to_customer_KM'][index]]])       \n",
    "    elif outlier['branch_code'][index] == 'BK':\n",
    "        outlier['predictedFee'][index] = regBK.predict([[outlier['weekend_index'][index], outlier['typeCode'][index], outlier['distance_to_customer_KM'][index]]]) \n",
    "    else:\n",
    "        outlier['predictedFee'][index] = regNS.predict([[outlier['weekend_index'][index], outlier['typeCode'][index], outlier['distance_to_customer_KM'][index]]])"
   ]
  },
  {
   "cell_type": "code",
   "execution_count": null,
   "metadata": {},
   "outputs": [],
   "source": [
    "'''\n",
    "Adding a column that contains difference between actual delivery fee and predicted delivery fee\n",
    "'''\n",
    "index = -1\n",
    "outlier['residual'] = float(0)\n",
    "\n",
    "for values in outlier['predictedFee']:\n",
    "    index += 1\n",
    "    Residual = abs(outlier['delivery_fee'][index] - outlier['predictedFee'][index])\n",
    "    outlier['residual'][index] = Residual"
   ]
  },
  {
   "cell_type": "markdown",
   "metadata": {},
   "source": [
    "Creating unique data frames for each branch so that we can calculate outliers found in each branch"
   ]
  },
  {
   "cell_type": "code",
   "execution_count": null,
   "metadata": {},
   "outputs": [],
   "source": [
    "'''\n",
    "Creating unique data frames for each branch so that we can calculate outliers found in each branch\n",
    "'''\n",
    "outlierTP = outlier[outlier['branch_code'] == 'TP']\n",
    "outlierBK = outlier[outlier['branch_code'] == 'BK']\n",
    "outlierNS = outlier[outlier['branch_code'] == 'NS']"
   ]
  },
  {
   "cell_type": "markdown",
   "metadata": {},
   "source": [
    "Resetting index for each data frame"
   ]
  },
  {
   "cell_type": "code",
   "execution_count": null,
   "metadata": {},
   "outputs": [],
   "source": [
    "outlierTP.reset_index(inplace=True)\n",
    "outlierBK.reset_index(inplace=True)\n",
    "outlierNS.reset_index(inplace=True)"
   ]
  },
  {
   "cell_type": "code",
   "execution_count": null,
   "metadata": {},
   "outputs": [],
   "source": [
    "'''\n",
    "Calculating highest and lowest value to remove outliers\n",
    "'''\n",
    "Q1 = np.percentile(outlierTP.residual, 25)\n",
    "Q3 = np.percentile(outlierTP.residual, 75)\n",
    "IQR = Q3 - Q1\n",
    "least = Q1 - (1.5*IQR)\n",
    "high = Q3 + (1.5*IQR)\n",
    "\n",
    "'''\n",
    "Recording index values to be dropped\n",
    "\n",
    "'''\n",
    "index = -1\n",
    "indexToDrop = []\n",
    "for values in outlierTP['residual']:\n",
    "    index += 1\n",
    "    if (values < least) or (values > high):\n",
    "        indexToDrop.append(index)\n",
    "        \n",
    "'''\n",
    "getting the order_id using the index values\n",
    "'''\n",
    "orderId_to_drop = []\n",
    "\n",
    "for item in indexToDrop:\n",
    "    orderId_to_drop.append(outlierTP['order_id'][item])\n",
    "    \n",
    "'''\n",
    "Setting order_id as index for dropping them\n",
    "'''\n",
    "outlierTP.set_index('order_id', inplace = True)\n",
    "\n",
    "'''\n",
    "Dropping values that are in orderId_to_drop\n",
    "Then reset index\n",
    "'''\n",
    "for item in orderId_to_drop:\n",
    "    item = str(item)\n",
    "    outlierTP.drop(item, inplace = True)\n",
    "    \n",
    "outlierTP.reset_index(inplace = True)\n",
    "outlierTP.shape"
   ]
  },
  {
   "cell_type": "code",
   "execution_count": null,
   "metadata": {},
   "outputs": [],
   "source": [
    "'''\n",
    "Calculating highest and lowest value to remove outliers\n",
    "'''\n",
    "Q1 = np.percentile(outlierBK.residual, 25)\n",
    "Q3 = np.percentile(outlierBK.residual, 75)\n",
    "IQR = Q3 - Q1\n",
    "least = Q1 - (1.5*IQR)\n",
    "high = Q3 + (1.5*IQR)\n",
    "\n",
    "'''\n",
    "Recording index values to be dropped\n",
    "\n",
    "'''\n",
    "index = -1\n",
    "indexToDrop = []\n",
    "for values in outlierBK['residual']:\n",
    "    index += 1\n",
    "    if (values < least) or (values > high):\n",
    "        indexToDrop.append(index)\n",
    "        \n",
    "'''\n",
    "getting the order_id using the index values\n",
    "'''\n",
    "orderId_to_drop = []\n",
    "\n",
    "for item in indexToDrop:\n",
    "    orderId_to_drop.append(outlierBK['order_id'][item])\n",
    "    \n",
    "'''\n",
    "Setting order_id as index for dropping them\n",
    "'''\n",
    "outlierBK.set_index('order_id', inplace = True)\n",
    "\n",
    "'''\n",
    "Dropping values that are in orderId_to_drop\n",
    "Then reset index\n",
    "'''\n",
    "for item in orderId_to_drop:\n",
    "    item = str(item)\n",
    "    outlierBK.drop(item, inplace = True)\n",
    "    \n",
    "outlierBK.reset_index(inplace = True)\n",
    "outlierBK.shape"
   ]
  },
  {
   "cell_type": "code",
   "execution_count": null,
   "metadata": {},
   "outputs": [],
   "source": [
    "'''\n",
    "Calculating highest and lowest value to remove outliers\n",
    "'''\n",
    "Q1 = np.percentile(outlierNS.residual, 25)\n",
    "Q3 = np.percentile(outlierNS.residual, 75)\n",
    "IQR = Q3 - Q1\n",
    "least = Q1 - (1.5*IQR)\n",
    "high = Q3 + (1.5*IQR)\n",
    "\n",
    "'''\n",
    "Recording index values to be dropped\n",
    "\n",
    "'''\n",
    "index = -1\n",
    "indexToDrop = []\n",
    "for values in outlierNS['residual']:\n",
    "    index += 1\n",
    "    if (values < least) or (values > high):\n",
    "        indexToDrop.append(index)\n",
    "        \n",
    "'''\n",
    "getting the order_id using the index values\n",
    "'''\n",
    "orderId_to_drop = []\n",
    "\n",
    "for item in indexToDrop:\n",
    "    orderId_to_drop.append(outlierNS['order_id'][item])\n",
    "    \n",
    "'''\n",
    "Setting order_id as index for dropping them\n",
    "'''\n",
    "outlierNS.set_index('order_id', inplace = True)\n",
    "\n",
    "'''\n",
    "Dropping values that are in orderId_to_drop\n",
    "Then reset index\n",
    "'''\n",
    "for item in orderId_to_drop:\n",
    "    item = str(item)\n",
    "    outlierNS.drop(item, inplace = True)\n",
    "    \n",
    "outlierNS.reset_index(inplace = True)\n",
    "outlierNS.shape"
   ]
  },
  {
   "cell_type": "code",
   "execution_count": null,
   "metadata": {},
   "outputs": [],
   "source": [
    "outlier.drop(columns=['weekend_index', 'typeCode', 'predictedFee', 'residual'], inplace=True)"
   ]
  },
  {
   "cell_type": "code",
   "execution_count": null,
   "metadata": {},
   "outputs": [],
   "source": [
    "outlier.reset_index(inplace=True)\n",
    "outlier['delivery_fee'] = round(outlier['delivery_fee'], 3)\n",
    "outlier['customer_lat'] = round(outlier['customer_lat'], 7)\n",
    "outlier['customer_lon'] = round(outlier['customer_lon'], 7)\n",
    "\n",
    "outlier"
   ]
  },
  {
   "cell_type": "code",
   "execution_count": null,
   "metadata": {},
   "outputs": [],
   "source": [
    "outlier.to_csv('./Group058_outlier_data_solution.csv', index=False)"
   ]
  },
  {
   "cell_type": "markdown",
   "metadata": {},
   "source": [
    "## Finding missing values"
   ]
  },
  {
   "cell_type": "markdown",
   "metadata": {},
   "source": [
    "Reading the Missing Data Dataset"
   ]
  },
  {
   "cell_type": "code",
   "execution_count": null,
   "metadata": {},
   "outputs": [],
   "source": [
    "missing = pd.read_csv('missing_data.csv')\n",
    "missing"
   ]
  },
  {
   "cell_type": "code",
   "execution_count": null,
   "metadata": {},
   "outputs": [],
   "source": [
    "missing.info()\n",
    "#check data set for null values"
   ]
  },
  {
   "cell_type": "markdown",
   "metadata": {},
   "source": [
    "We can see that there are 100 missing values in branch code, and 50 missing values in distance to customer and delivery fee each."
   ]
  },
  {
   "cell_type": "code",
   "execution_count": null,
   "metadata": {},
   "outputs": [],
   "source": [
    "#finding the indeces for rows in the dataset where the branch code is missing in the dataset\n",
    "\n",
    "missing_branch = missing[missing['branch_code'].isnull()].index.tolist()"
   ]
  },
  {
   "cell_type": "markdown",
   "metadata": {},
   "source": [
    "## Missing Branch Codes\n",
    "\n",
    "### Finding a pattern in order ids to find branch code"
   ]
  },
  {
   "cell_type": "code",
   "execution_count": null,
   "metadata": {},
   "outputs": [],
   "source": [
    "missing1 = missing.dropna().reset_index(drop = True)\n",
    "#dropping rows with null values in the dataset\n",
    "\n",
    "tp = []\n",
    "bk = []\n",
    "ns = []\n",
    "#initialising list variables to store order ids for each branch\n",
    "\n",
    "for i in range(len(missing1)):\n",
    "    id1 = list(missing1['order_id'][i])[3]\n",
    "    #storing the fourth letter in each order id in id1 variable\n",
    "    \n",
    "    branch = missing1['branch_code'][i]\n",
    "    \n",
    "    if branch == 'TP':\n",
    "        tp.append(id1)\n",
    "    if branch == 'BK':\n",
    "        bk.append(id1)\n",
    "    if branch == 'NS':\n",
    "        ns.append(id1)\n",
    "    #appending the segemented letter into respective lists for each branch\n",
    "    \n",
    "tp = list(set(tp))\n",
    "bk = list(set(bk))\n",
    "ns = list(set(ns))\n",
    "#finding a unique pattern of letters in order ids for each branch\n",
    "\n",
    "print('tp',tp)\n",
    "print('bk',bk)\n",
    "print('ns',ns)"
   ]
  },
  {
   "cell_type": "markdown",
   "metadata": {},
   "source": [
    "It is seen that the fourth letter in each order id must belong to one of the three letters in each branch"
   ]
  },
  {
   "cell_type": "code",
   "execution_count": null,
   "metadata": {},
   "outputs": [],
   "source": [
    "for i in missing_branch:\n",
    "    id2 = missing['order_id'][i][3]\n",
    "    if id2 in tp:\n",
    "        missing['branch_code'][i] = 'TP'\n",
    "    elif id2 in bk:\n",
    "        missing['branch_code'][i] = 'BK'\n",
    "    elif id2 in ns:\n",
    "        missing['branch_code'][i] = 'NS'  \n",
    "\n",
    "#adding branch codes for each row with missing branch codes in the dataset"
   ]
  },
  {
   "cell_type": "markdown",
   "metadata": {},
   "source": [
    "## Missing Distance to customer"
   ]
  },
  {
   "cell_type": "markdown",
   "metadata": {},
   "source": [
    "The shortest distance to customer can be found using dijkstra's algorithm and networkx previously used to find chech shortest distance in the dirty dataset "
   ]
  },
  {
   "cell_type": "code",
   "execution_count": null,
   "metadata": {},
   "outputs": [],
   "source": [
    "'''\n",
    "Calculating node of branch using the latitude and logitude of branch\n",
    "Calculating node of customer using latitude and logitude of customer\n",
    "Finding the shortest distance between the nodes using Dijstras algorithm\n",
    "'''\n",
    "missing_index = missing[missing['distance_to_customer_KM'].isnull()].index.tolist()\n",
    "\n",
    "for i in missing_index:\n",
    "    brCode = missing['branch_code'][i]\n",
    "    brLat = branches[branches['branch_code'] == brCode]['branch_lat']\n",
    "    brLon = branches[branches['branch_code'] == brCode]['branch_lon']\n",
    "    brLat = float(brLat)\n",
    "    brLon = float(brLon)\n",
    "    nodeOfBranch = nodes[(nodes['lat'] == brLat) & (nodes['lon'] == brLon)]['node']\n",
    "    #finding the node of the branch  from the branch's latitude and longitude\n",
    "    \n",
    "    crLat = miss['customer_lat'][i]\n",
    "    crLon = miss['customer_lon'][i]\n",
    "    crLat = float(crLat)\n",
    "    crLon = float(crLon)\n",
    "    nodeOfCustomer = nodes[(nodes['lat'] == crLat) & (nodes['lon'] == crLon)]['node']\n",
    "    #finding the node of the customer from the customer's latitude and longitude\n",
    "    \n",
    "    nodeOfBranch = int(nodeOfBranch)\n",
    "    nodeOfCustomer = int(nodeOfCustomer)\n",
    "    distance = single_source_dijkstra(theRoute, nodeOfBranch, nodeOfCustomer)[0]\n",
    "    missing['distance_to_customer_KM'][i]  = round((single_source_dijkstra(theRoute, nodeOfBranch, nodeOfCustomer)[0]/1000),3)"
   ]
  },
  {
   "cell_type": "markdown",
   "metadata": {},
   "source": [
    "## Missing Delivery Fee\n",
    "\n",
    "The delivery fee is dependent on distance between the branch and customer, time of the day( if its morning, afternoon or evening),\n",
    "and if its a weekend or weekday. Further more, the delivery fee is calculated differently for each branch."
   ]
  },
  {
   "cell_type": "code",
   "execution_count": null,
   "metadata": {},
   "outputs": [],
   "source": [
    "day_type = []\n",
    "day_time = []\n",
    "dist = []\n",
    "delivery_fee = []\n",
    "branch_code = []\n",
    "#initialising list variables to store the day_type, day_time, delivery_fee, distance and branch code\n",
    "\n",
    "def strip_time(time):\n",
    "    return(datetime.strptime(time,'%H:%M:%S'))\n",
    "#defining a function to convert data to time format\n",
    "\n",
    "def weekday(date):\n",
    "    day = datetime.strptime(date, '%Y-%m-%d').weekday()\n",
    "    if day < 5:\n",
    "        return(0)\n",
    "    else:\n",
    "        return(1)\n",
    "#defining a function to check if the day is a weekday or weekend\n",
    "#if weekday, return 0 and if weekend return 1\n",
    "\n",
    "def time_of_day(time):\n",
    "    b1 = '8:00:00'\n",
    "    b2 = '12:00:00'\n",
    "    l1 = '12:00:01'\n",
    "    l2 = '16:00:00'\n",
    "    d1 = '16:00:01'\n",
    "    d2 = '20:00:00'\n",
    "\n",
    "    b1 = strip_time(b1)\n",
    "    b2 = strip_time(b2)\n",
    "    l1 = strip_time(l1)\n",
    "    l2 = strip_time(l2)\n",
    "    d1 = strip_time(d1)\n",
    "    d2 = strip_time(d2)\n",
    "\n",
    "    time1 = datetime.strptime(time,'%H:%M:%S')\n",
    "    if b1 <= time1 <= b2:\n",
    "        return(0)\n",
    "    elif l1 <= time1 <= l2:\n",
    "        return(1)\n",
    "    elif d1 <= time1 <= d2:\n",
    "        return(2) \n",
    "#defining a function to check if the time of order is morning, afternoon, or evening\n",
    "#if its a morning return 0, if afternoon return 1, if evening return 2\n",
    "\n",
    "missing1 = missing.dropna().reset_index(drop = True)\n",
    "#dropping all rows with missing values and storing the resulting data set in missing1\n",
    "\n",
    "for i in range(350):\n",
    "    \n",
    "    day_type.append(weekday(missing1['date'][i]))\n",
    "    #appending the day type for each iteration into day_type list variable\n",
    "\n",
    "    day_time.append(time_of_day(missing1['time'][i]))\n",
    "    #appending the day time for each iteration into day_time list variable\n",
    "    \n",
    "    dist.append(missing1['distance_to_customer_KM'][i])\n",
    "    #appending distance for each iteration into dist list variable\n",
    "    \n",
    "    if missing1['customerHasloyalty?'][i] == 1:\n",
    "        delivery_fee.append(missing1['delivery_fee'][i]*2)\n",
    "        #divide the delivery fee by 2 for customers with loyalty\n",
    "        \n",
    "    elif missing1['customerHasloyalty?'][i] == 0:\n",
    "        delivery_fee.append(missing1['delivery_fee'][i])\n",
    "    \n",
    "    branch_code.append(missing1['branch_code'][i])\n",
    "    #appending branch codes for each iteration\n",
    "    "
   ]
  },
  {
   "cell_type": "markdown",
   "metadata": {},
   "source": [
    "Creating a seperate dataset containing the required variables to calculate the delivery fee"
   ]
  },
  {
   "cell_type": "code",
   "execution_count": null,
   "metadata": {},
   "outputs": [],
   "source": [
    "data = pd.DataFrame(day_type, columns = ['Weekend'])\n",
    "data[\"branch_code\"] = branch_code\n",
    "data['time'] = day_time\n",
    "data['distance'] = dist\n",
    "data['delivery_fee'] = delivery_fee\n",
    "\n",
    "#storing all lists into a single dataset\n",
    "data.count()"
   ]
  },
  {
   "cell_type": "markdown",
   "metadata": {},
   "source": [
    "Creating a seperate data set for each branch and developing a model to estimate delivery fee"
   ]
  },
  {
   "cell_type": "code",
   "execution_count": null,
   "metadata": {},
   "outputs": [],
   "source": [
    "data_TP = data[data.branch_code == 'TP'].reset_index(drop = True)\n",
    "data_BK = data[data.branch_code == 'BK'].reset_index(drop = True)\n",
    "data_NS = data[data.branch_code == 'NS'].reset_index(drop = True)\n",
    "#segretating the data into seperate datasets based on branch code\n",
    "\n",
    "model_TP = LinearRegression()\n",
    "model_TP.fit(data_TP[['Weekend', 'time', 'distance']], data_TP['delivery_fee'])\n",
    "model_BK = LinearRegression()\n",
    "model_BK.fit(data_BK[['Weekend', 'time', 'distance']], data_BK['delivery_fee'])\n",
    "model_NS = LinearRegression()\n",
    "model_NS.fit(data_NS[['Weekend', 'time', 'distance']], data_NS['delivery_fee'])\n",
    "\n",
    "#developing models for each branch to find methods to calculate delivery fee"
   ]
  },
  {
   "cell_type": "code",
   "execution_count": null,
   "metadata": {},
   "outputs": [],
   "source": [
    "missing_index2 = missing[missing['delivery_fee'].isnull()].index.tolist()\n",
    "#finding indeces of rows that have missing delivery fee\n",
    "\n",
    "for i in missing_index2:\n",
    "    \n",
    "    daytype = weekday(missing['date'][i])\n",
    "    #finding the daytype for the given row\n",
    "\n",
    "    daytime = time_of_day(missing['time'][i])\n",
    "    #finding the daytime for the given row\n",
    "    \n",
    "    if missing['branch_code'][i] == 'TP':\n",
    "        delivery_fee = model_TP.predict([[daytype,daytime,missing['distance_to_customer_KM'][i]]])[0]\n",
    "    \n",
    "    elif missing['branch_code'][i] == 'BK':\n",
    "        delivery_fee = model_BK.predict([[daytype,daytime,missing['distance_to_customer_KM'][i]]])[0]\n",
    "     \n",
    "    elif missing['branch_code'][i] == 'NS':\n",
    "        delivery_fee = model_NS.predict([[daytype,daytime,missing['distance_to_customer_KM'][i]]])[0]\n",
    "    #calculating delivery_fee for the given row based on the branch code\n",
    "    \n",
    "    if missing['customerHasloyalty?'][i] == 1:\n",
    "        missing['delivery_fee'][i] = distance/2\n",
    "        #dividing the delivery fee by 2 if the customer has loyalty\n",
    "        \n",
    "    elif missing['customerHasloyalty?'][i] == 0:\n",
    "        missing['delivery_fee'][i] = distance\n",
    "        #storing delivery as such if customer does not have loyalty\n",
    "                \n",
    "                "
   ]
  },
  {
   "cell_type": "code",
   "execution_count": null,
   "metadata": {},
   "outputs": [],
   "source": [
    "missing.info()                "
   ]
  },
  {
   "cell_type": "code",
   "execution_count": null,
   "metadata": {},
   "outputs": [],
   "source": [
    "missing['customer_lat'] = round(missing['customer_lat'], 7)\n",
    "missing['customer_lon'] = round(missing['customer_lon'], 7)\n",
    "missing['delivery_fee'] = round(missing['delivery_fee'], 3)\n",
    "\n",
    "\n",
    "missing"
   ]
  },
  {
   "cell_type": "code",
   "execution_count": null,
   "metadata": {},
   "outputs": [],
   "source": [
    "missing.to_csv('./missing_data_solutions.csv', index=False)\n",
    "#writing a csv file "
   ]
  }
 ],
 "metadata": {
  "kernelspec": {
   "display_name": "Python 3",
   "language": "python",
   "name": "python3"
  },
  "language_info": {
   "codemirror_mode": {
    "name": "ipython",
    "version": 3
   },
   "file_extension": ".py",
   "mimetype": "text/x-python",
   "name": "python",
   "nbconvert_exporter": "python",
   "pygments_lexer": "ipython3",
   "version": "3.8.5"
  }
 },
 "nbformat": 4,
 "nbformat_minor": 2
}
